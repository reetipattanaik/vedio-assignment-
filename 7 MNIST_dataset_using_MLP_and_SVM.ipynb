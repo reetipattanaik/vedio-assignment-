{
 "cells": [
  {
   "cell_type": "markdown",
   "metadata": {},
   "source": [
    "## Import necessary libraries"
   ]
  },
  {
   "cell_type": "code",
   "execution_count": 1,
   "metadata": {},
   "outputs": [],
   "source": [
    "import numpy as np\n",
    "import pandas as pd\n",
    "import matplotlib.pyplot as plt\n",
    "from sklearn.neural_network import MLPClassifier\n",
    "from sklearn.preprocessing import StandardScaler\n",
    "from sklearn.metrics import accuracy_score"
   ]
  },
  {
   "cell_type": "markdown",
   "metadata": {},
   "source": [
    "## Loading the data"
   ]
  },
  {
   "cell_type": "code",
   "execution_count": 2,
   "metadata": {},
   "outputs": [
    {
     "data": {
      "image/png": "[encoded data removed]",
      "text/plain": [
       "<Figure size 1080x432 with 10 Axes>"
      ]
     },
     "metadata": {
      "needs_background": "light"
     },
     "output_type": "display_data"
    }
   ],
   "source": [
    "train_data = pd.read_csv(\"E:\\Work Space\\Ecko data\\mnist_train\\mnist_train.csv\").values\n",
    "X_train = train_data[:,1:]\n",
    "y_train = train_data[:,0]\n",
    "rand_idx = np.random.choice(train_data.shape[0],10)\n",
    "fig,ax = plt.subplots(2,5,figsize=(15,6))\n",
    "c = 0\n",
    "for i in range(2):\n",
    "    for j in range(5):\n",
    "        img_arr = X_train[rand_idx[c],:]\n",
    "        img_arr = np.uint8(img_arr.reshape(28,28))\n",
    "        ax[i,j].imshow(img_arr, cmap=\"gray\")\n",
    "        ax[i,j].set_axis_off()\n",
    "        c += 1\n",
    "plt.show()"
   ]
  },
  {
   "cell_type": "markdown",
   "metadata": {},
   "source": [
    "## Scaling the data"
   ]
  },
  {
   "cell_type": "code",
   "execution_count": 3,
   "metadata": {},
   "outputs": [],
   "source": [
    "scaler = StandardScaler()\n",
    "X_train = scaler.fit_transform(X_train)"
   ]
  },
  {
   "cell_type": "markdown",
   "metadata": {},
   "source": [
    "## Training the MLP classifier"
   ]
  },
  {
   "cell_type": "code",
   "execution_count": 4,
   "metadata": {},
   "outputs": [
    {
     "data": {
      "text/plain": [
       "MLPClassifier(activation='logistic', hidden_layer_sizes=(24, 40, 64),\n",
       "              learning_rate_init=0.005, max_iter=1000, random_state=1)"
      ]
     },
     "execution_count": 4,
     "metadata": {},
     "output_type": "execute_result"
    }
   ],
   "source": [
    "clf1 = MLPClassifier(hidden_layer_sizes = (24,40,64), activation = 'logistic',\n",
    "                    solver = 'adam', learning_rate_init = 0.005,\n",
    "                    max_iter = 1000,random_state = 1)\n",
    "\n",
    "clf1.fit(X_train,y_train)"
   ]
  },
  {
   "cell_type": "markdown",
   "metadata": {},
   "source": [
    "## Testing the data"
   ]
  },
  {
   "cell_type": "code",
   "execution_count": 5,
   "metadata": {},
   "outputs": [
    {
     "name": "stdout",
     "output_type": "stream",
     "text": [
      "Accuracy Score of our multi-class classifier is: 0.94\n"
     ]
    }
   ],
   "source": [
    "test_data = pd.read_csv(\"E:\\Work Space\\Ecko data\\mnist_test\\mnist_test.csv\").values\n",
    "X_test = test_data[:,1:]\n",
    "y_test = test_data[:,0]\n",
    "X_test = scaler.fit_transform(X_test) \n",
    "y_pred_MLP = clf1.predict(X_test)\n",
    "print(\"Accuracy Score of our multi-class classifier is: {}\".format(accuracy_score(np.ravel(y_test),y_pred_MLP)))"
   ]
  },
  {
   "cell_type": "markdown",
   "metadata": {},
   "source": [
    "## Checking with SVM"
   ]
  },
  {
   "cell_type": "code",
   "execution_count": 6,
   "metadata": {},
   "outputs": [],
   "source": [
    "from sklearn import svm"
   ]
  },
  {
   "cell_type": "code",
   "execution_count": 7,
   "metadata": {},
   "outputs": [
    {
     "data": {
      "text/plain": [
       "SVC(kernel='poly')"
      ]
     },
     "execution_count": 7,
     "metadata": {},
     "output_type": "execute_result"
    }
   ],
   "source": [
    "clf2 = svm.SVC(kernel='poly')\n",
    "\n",
    "clf2.fit(X_train, y_train) "
   ]
  },
  {
   "cell_type": "code",
   "execution_count": 9,
   "metadata": {},
   "outputs": [
    {
     "name": "stdout",
     "output_type": "stream",
     "text": [
      "Accuracy Score of our SVM classifier is: 0.9611\n"
     ]
    }
   ],
   "source": [
    "y_pred_SVM = clf2.predict(X_test)\n",
    "\n",
    "print(\"Accuracy Score of our SVM classifier is: {}\".format(accuracy_score(np.ravel(y_test),y_pred_SVM))) "
   ]
  },
  {
   "cell_type": "code",
   "execution_count": null,
   "metadata": {},
   "outputs": [],
   "source": []
  }
 ],
 "metadata": {
  "kernelspec": {
   "display_name": "Python 3",
   "language": "python",
   "name": "python3"
  },
  "language_info": {
   "codemirror_mode": {
    "name": "ipython",
    "version": 3
   },
   "file_extension": ".py",
   "mimetype": "text/x-python",
   "name": "python",
   "nbconvert_exporter": "python",
   "pygments_lexer": "ipython3",
   "version": "3.7.4"
  }
 },
 "nbformat": 4,
 "nbformat_minor": 2
}
