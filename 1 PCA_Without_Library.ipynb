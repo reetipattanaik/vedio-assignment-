{
 "cells": [
  {
   "cell_type": "markdown",
   "metadata": {},
   "source": [
    "## Import the necessary libraries"
   ]
  },
  {
   "cell_type": "code",
   "execution_count": 3,
   "metadata": {},
   "outputs": [],
   "source": [
    "import numpy as np\n",
    "\n",
    "import pandas as pd\n",
    "\n",
    "import matplotlib.pyplot as plt\n",
    "\n",
    "from sklearn.preprocessing import StandardScaler"
   ]
  },
  {
   "cell_type": "markdown",
   "metadata": {},
   "source": [
    "## Load the dataset using Pandas"
   ]
  },
  {
   "cell_type": "code",
   "execution_count": 10,
   "metadata": {},
   "outputs": [],
   "source": [
    "dataset = pd.read_csv('E:\\Work Space\\Ecko data\\PCA_practice_dataset.csv')"
   ]
  },
  {
   "cell_type": "code",
   "execution_count": 11,
   "metadata": {},
   "outputs": [],
   "source": [
    "sc = StandardScaler()\n",
    "\n",
    "data_set = sc.fit_transform(dataset)"
   ]
  },
  {
   "cell_type": "code",
   "execution_count": 12,
   "metadata": {},
   "outputs": [
    {
     "name": "stdout",
     "output_type": "stream",
     "text": [
      "(8041, 35)\n"
     ]
    }
   ],
   "source": [
    "print(data_set.shape)"
   ]
  },
  {
   "cell_type": "markdown",
   "metadata": {},
   "source": [
    "## Find eigen vectors"
   ]
  },
  {
   "cell_type": "code",
   "execution_count": 21,
   "metadata": {},
   "outputs": [
    {
     "name": "stdout",
     "output_type": "stream",
     "text": [
      "(35,)\n",
      "(8041, 8041)\n"
     ]
    }
   ],
   "source": [
    "mean_ = np.mean(data_set,axis=0)\n",
    "print(mean_.shape)\n",
    "cov = np.cov(data_set)\n",
    "print(cov.shape)\n",
    "\n",
    "eig_val,eig_vec = np.linalg.eig(cov)\n",
    "#print(eig_vec.shape)"
   ]
  },
  {
   "cell_type": "markdown",
   "metadata": {},
   "source": [
    "## Find the right singular vectors**"
   ]
  },
  {
   "cell_type": "code",
   "execution_count": 18,
   "metadata": {},
   "outputs": [],
   "source": [
    "eigen_vec_ls = []\n",
    "#eig1 = train_mat.T@eig_vec[:,0]\n",
    "#print(eig1.shape)\n",
    "for i in range(eig_vec.shape[1]):\n",
    "    eig1 = data_set.T@eig_vec[:,i]\n",
    "    eig1 = eig1/eig_val[i]\n",
    "    eigen_vec_ls.append(np.ravel(eig1))\n",
    "#print(eigen_vec_ls)"
   ]
  },
  {
   "cell_type": "markdown",
   "metadata": {},
   "source": [
    "## Find the Principal Components"
   ]
  },
  {
   "cell_type": "code",
   "execution_count": 19,
   "metadata": {},
   "outputs": [
    {
     "name": "stdout",
     "output_type": "stream",
     "text": [
      "Number of components is 7\n"
     ]
    }
   ],
   "source": [
    "sort_idx = np.argsort(eig_val) ## indices for eigenvalues which are in ascending order\n",
    "sort_idx = sort_idx[::-1]\n",
    "\n",
    "eig_val_sum = np.sum(eig_val)\n",
    "temp_sum = 0\n",
    "principal_eig_vec = []\n",
    "principal_eig_val = []\n",
    "i=0\n",
    "while(temp_sum<0.95*eig_val_sum):\n",
    "    principal_eig_vec.append(eigen_vec_ls[sort_idx[i]])\n",
    "    principal_eig_val.append(eig_val[sort_idx[i]])\n",
    "    temp_sum += eig_val[sort_idx[i]]\n",
    "    i += 1\n",
    "print(\"Number of components is {}\".format(i))"
   ]
  },
  {
   "cell_type": "markdown",
   "metadata": {},
   "source": [
    "## Draw the scree plot"
   ]
  },
  {
   "cell_type": "code",
   "execution_count": 17,
   "metadata": {},
   "outputs": [
    {
     "name": "stderr",
     "output_type": "stream",
     "text": [
      "C:\\Users\\Arsalan\\Anaconda3\\lib\\site-packages\\numpy\\core\\numeric.py:538: ComplexWarning: Casting complex values to real discards the imaginary part\n",
      "  return array(a, dtype, copy=False, order=order)\n"
     ]
    },
    {
     "data": {
      "image/png": "[encoded data removed]",
      "text/plain": [
       "<Figure size 432x288 with 1 Axes>"
      ]
     },
     "metadata": {
      "needs_background": "light"
     },
     "output_type": "display_data"
    }
   ],
   "source": [
    "fig, ax = plt.subplots()\n",
    "\n",
    "ax.plot(principal_eig_val)\n",
    "ax.set_title(\"Eigen-values corresponding to the principal components\")\n",
    "\n",
    "plt.tight_layout()"
   ]
  },
  {
   "cell_type": "code",
   "execution_count": null,
   "metadata": {},
   "outputs": [],
   "source": []
  }
 ],
 "metadata": {
  "kernelspec": {
   "display_name": "Python 3",
   "language": "python",
   "name": "python3"
  },
  "language_info": {
   "codemirror_mode": {
    "name": "ipython",
    "version": 3
   },
   "file_extension": ".py",
   "mimetype": "text/x-python",
   "name": "python",
   "nbconvert_exporter": "python",
   "pygments_lexer": "ipython3",
   "version": "3.7.4"
  }
 },
 "nbformat": 4,
 "nbformat_minor": 2
}
